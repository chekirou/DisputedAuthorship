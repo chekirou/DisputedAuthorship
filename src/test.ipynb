{
 "cells": [
  {
   "cell_type": "code",
   "execution_count": 1,
   "metadata": {},
   "outputs": [],
   "source": [
    "import sys, os\n",
    "from Feature_engineering import *\n",
    "from cleaning import * \n",
    "from sklearn.metrics import f1_score, make_scorer\n",
    "from sklearn.svm import LinearSVC\n",
    "from sklearn.model_selection import cross_val_score\n",
    "from sklearn.model_selection import cross_validate\n",
    "from sklearn.naive_bayes import MultinomialNB\n",
    "from sklearn.linear_model import LogisticRegression\n",
    "from sklearn.ensemble import RandomForestClassifier\n",
    "import matplotlib.pyplot as plt\n",
    "from nltk.tokenize import word_tokenize\n",
    "from sklearn.linear_model import LinearRegression\n",
    "from sklearn.feature_extraction.text import TfidfVectorizer"
   ]
  },
  {
   "cell_type": "code",
   "execution_count": 5,
   "metadata": {},
   "outputs": [],
   "source": [
    "trainFile, testFile = \"../data/corpus.tache1.learn.utf8\", \"../data/corpus.tache1.test.utf8\""
   ]
  },
  {
   "cell_type": "code",
   "execution_count": 32,
   "metadata": {},
   "outputs": [
    {
     "name": "stdout",
     "output_type": "stream",
     "text": [
      "Loading : train data\n",
      "Loading : test data\n"
     ]
    }
   ],
   "source": [
    "train, test = load_data(trainFile, testFile)"
   ]
  },
  {
   "cell_type": "code",
   "execution_count": 33,
   "metadata": {},
   "outputs": [],
   "source": [
    "dataClass = DataSet()\n",
    "df = train#dataClass.lemmatisation()\n",
    "df.fillna(\"\", inplace = True)"
   ]
  },
  {
   "cell_type": "code",
   "execution_count": 19,
   "metadata": {},
   "outputs": [],
   "source": [
    "import numpy as np\n",
    "from sklearn.base import BaseEstimator, ClassifierMixin\n",
    "from sklearn.utils.validation import check_X_y, check_array, check_is_fitted\n",
    "from sklearn.utils.multiclass import unique_labels\n",
    "from sklearn.metrics import euclidean_distances\n",
    "class Classifier(BaseEstimator):\n",
    "\n",
    "    def __init__(self):\n",
    "        self.naiveBayes = MultinomialNB()\n",
    "        pass\n",
    "\n",
    "    def fit(self, X, y):\n",
    "\n",
    "        # Check that X and y have correct shape\n",
    "        # Return the classifier\n",
    "        self.naiveBayes.fit(X, y)\n",
    "        return self\n",
    "\n",
    "    def predict(self, X):\n",
    "        \n",
    "        prediction = self.naiveBayes.predict(X)\n",
    "        results = pd.DataFrame()\n",
    "        results[\"prediction_raw\"]= prediction\n",
    "        #closest = np.argmin(euclidean_distances(X, self.X_), axis=1)\n",
    "        results[\"prediction_1\"] = 0\n",
    "        for i, row in results.iterrows():\n",
    "            results.at[i, \"prediction_1\"] = 1 if (results.loc[i-5: i+5, \"prediction_raw\"]).mean() >= 0.5 else 0\n",
    "        results[\"prediction_2\"] = 0\n",
    "        for i , row in results.iterrows():\n",
    "            results.at[i, \"prediction_2\"] = 1 if (results.loc[i-1: i+1, \"prediction_1\"]).mean() >= 0.5 else 0\n",
    "        return results[\"prediction_2\"].to_numpy()"
   ]
  },
  {
   "cell_type": "code",
   "execution_count": 17,
   "metadata": {},
   "outputs": [
    {
     "data": {
      "text/plain": [
       "7523"
      ]
     },
     "execution_count": 17,
     "metadata": {},
     "output_type": "execute_result"
    }
   ],
   "source": [
    "df[df[\"label\"] != 0][\"label\"].sum()"
   ]
  },
  {
   "cell_type": "code",
   "execution_count": 38,
   "metadata": {},
   "outputs": [],
   "source": [
    "clf = MultinomialNB()\n",
    "count_vect = CountVectorizer(analyzer='word',lowercase = False ,ngram_range= (1,2))\n",
    "count_vect.fit(df[\"text\"])\n",
    "train_count =  count_vect.transform(df[\"text\"])\n",
    "Scores = cross_val_score( clf, train_count, df[\"label\"], cv=5, scoring=make_scorer(f1_score,pos_label=1))\n"
   ]
  },
  {
   "cell_type": "code",
   "execution_count": 39,
   "metadata": {},
   "outputs": [
    {
     "data": {
      "text/plain": [
       "array([0.50446067, 0.4836703 , 0.48953179, 0.49838969, 0.45797995])"
      ]
     },
     "execution_count": 39,
     "metadata": {},
     "output_type": "execute_result"
    }
   ],
   "source": [
    "Scores"
   ]
  },
  {
   "cell_type": "markdown",
   "metadata": {},
   "source": [
    "# pos tag"
   ]
  },
  {
   "cell_type": "code",
   "execution_count": 5,
   "metadata": {},
   "outputs": [],
   "source": [
    "df = train"
   ]
  },
  {
   "cell_type": "code",
   "execution_count": 6,
   "metadata": {},
   "outputs": [],
   "source": [
    "clf = Classifier()\n",
    "#data, label = df.loc[:, \"ADJ\":\"SPACE\"], df[\"label\"]\n",
    "#data = data.div(df[\"length\"], axis=0)\n",
    "count_vect = CountVectorizer(analyzer='word',lowercase = False ,ngram_range= (1,2), min_df = 10, max_df = 0.5)\n",
    "count_vect.fit(df[\"text\"])\n",
    "train_count =  count_vect.transform(df[\"text\"])\n",
    "#cross_validate( clf, train_count, df[\"label\"], cv=5, scoring=make_scorer(f1_score,pos_label=1))\n"
   ]
  },
  {
   "cell_type": "code",
   "execution_count": 7,
   "metadata": {},
   "outputs": [],
   "source": [
    "clf.fit(train_count, df[\"label\"])\n",
    "pred = clf.predict(count_vect.transform(test[\"text\"]))"
   ]
  },
  {
   "cell_type": "code",
   "execution_count": null,
   "metadata": {},
   "outputs": [],
   "source": []
  },
  {
   "cell_type": "code",
   "execution_count": 191,
   "metadata": {},
   "outputs": [
    {
     "data": {
      "text/plain": [
       "['pas', 'en', 'est', 'qui', 'des', 'que', 'les', 'le', 'et', 'la']"
      ]
     },
     "execution_count": 191,
     "metadata": {},
     "output_type": "execute_result"
    }
   ],
   "source": [
    "coef = clf.naiveBayes.coef_\n",
    "mostpositif = np.argsort(coef[0])[-10:]\n",
    "[vocab_inverse[k] for k in mostpositif]"
   ]
  },
  {
   "cell_type": "code",
   "execution_count": 192,
   "metadata": {},
   "outputs": [
    {
     "data": {
      "text/plain": [
       "['000',\n",
       " 'plus équilibré',\n",
       " 'tout pour',\n",
       " 'est évidemment',\n",
       " 'aux évolutions',\n",
       " 'plus sûr',\n",
       " 'estime de',\n",
       " 'poignée',\n",
       " 'aux États',\n",
       " 'plus sombres']"
      ]
     },
     "execution_count": 192,
     "metadata": {},
     "output_type": "execute_result"
    }
   ],
   "source": [
    "mostnegative =  np.argsort(coef[0])[:10]\n",
    "[vocab_inverse[k] for k in mostnegative]"
   ]
  },
  {
   "cell_type": "code",
   "execution_count": 30,
   "metadata": {},
   "outputs": [],
   "source": [
    "vocab = count_vect.vocabulary_\n",
    "vocab_inverse = {v: k for k,v in vocab.items()}"
   ]
  },
  {
   "cell_type": "code",
   "execution_count": 93,
   "metadata": {},
   "outputs": [],
   "source": [
    "probability_inverse= clf.naiveBayes.feature_log_prob_"
   ]
  },
  {
   "cell_type": "code",
   "execution_count": 145,
   "metadata": {},
   "outputs": [],
   "source": [
    "prior = np.array([[clf.naiveBayes.class_log_prior_[0]],[clf.naiveBayes.class_log_prior_[1]]])\n",
    "prior = np.repeat(prior, probability.shape[1], axis=1)\n",
    "count = clf.naiveBayes.feature_count_\n",
    "featureProba = np.log(count.sum(axis=0) / count.sum())\n",
    "featureProba = np.repeat(np.array([featureProba]), 2, axis=0)\n"
   ]
  },
  {
   "cell_type": "code",
   "execution_count": 178,
   "metadata": {},
   "outputs": [],
   "source": [
    "Probability = probability_inverse + prior - featureProba "
   ]
  },
  {
   "cell_type": "code",
   "execution_count": 179,
   "metadata": {},
   "outputs": [
    {
     "data": {
      "text/plain": [
       "array([-3.86442319, -3.72843419, -3.69643146, ...,  0.11245079,\n",
       "        0.11245079,  0.11245079])"
      ]
     },
     "execution_count": 179,
     "metadata": {},
     "output_type": "execute_result"
    }
   ],
   "source": [
    "Probability[0][np.argsort(Probability[0])]#[-10:]]"
   ]
  },
  {
   "cell_type": "code",
   "execution_count": 180,
   "metadata": {},
   "outputs": [],
   "source": [
    "# J Chirac\n",
    "#mot les plus frequents:\n",
    "probs_1 = Probability[1][np.argsort(Probability[1])[-10:]]\n",
    "words_indices_1 = np.argsort(Probability[1])[-10:]\n",
    "words_1 = np.array([vocab_inverse[k] for k in words_indices_1])\n",
    "probs_0 = Probability[0][np.argsort(Probability[0])[-10:]]\n",
    "words_indices_0 = np.argsort(Probability[0])[-10:]\n",
    "words_0 = np.array([vocab_inverse[k] for k in words_indices_0])"
   ]
  },
  {
   "cell_type": "code",
   "execution_count": 181,
   "metadata": {},
   "outputs": [],
   "source": [
    "best_words = np.vstack((words_1, words_0)).transpose()"
   ]
  },
  {
   "cell_type": "code",
   "execution_count": 182,
   "metadata": {},
   "outputs": [
    {
     "data": {
      "image/png": "[encoded data removed]",
      "text/plain": [
       "<Figure size 640x480 with 1 Axes>"
      ]
     },
     "metadata": {},
     "output_type": "display_data"
    }
   ],
   "source": [
    "fig, ax = plt.subplots()\n",
    "# hide axes\n",
    "fig.patch.set_visible(False)\n",
    "ax.axis('off')\n",
    "ax.axis('tight')\n",
    "\n",
    "the_table = plt.table(cellText=best_words,\n",
    "                      colLabels=[\"Mitterrand\", \"Chirac\"],\n",
    "                      loc='bottom')\n",
    "\n",
    "plt.show()\n",
    "#plt.rcdefaults()\n",
    "#plt.xticks(rotation='vertical')\n",
    "#plt.bar(words, probs)"
   ]
  },
  {
   "cell_type": "code",
   "execution_count": 35,
   "metadata": {},
   "outputs": [
    {
     "data": {
      "text/plain": [
       "['un', 'que', 'qui', 'en', 'est', 'des', 'le', 'les', 'et', 'la']"
      ]
     },
     "execution_count": 35,
     "metadata": {},
     "output_type": "execute_result"
    }
   ],
   "source": [
    "probs = probability[0][np.argsort(probability[0])[-10:]]\n",
    "words_indices = np.argsort(probability[0])[-10:]\n",
    "words = [vocab_inverse[k] for k in words_indices]\n",
    "words"
   ]
  },
  {
   "cell_type": "code",
   "execution_count": 36,
   "metadata": {},
   "outputs": [
    {
     "data": {
      "text/plain": [
       "<BarContainer object of 10 artists>"
      ]
     },
     "execution_count": 36,
     "metadata": {},
     "output_type": "execute_result"
    },
    {
     "data": {
      "image/png": "[encoded data removed]",
      "text/plain": [
       "<Figure size 432x288 with 1 Axes>"
      ]
     },
     "metadata": {
      "needs_background": "light"
     },
     "output_type": "display_data"
    }
   ],
   "source": [
    "plt.bar(words, probs)"
   ]
  },
  {
   "cell_type": "code",
   "execution_count": 56,
   "metadata": {},
   "outputs": [],
   "source": [
    "test[\"label\"] = pred"
   ]
  },
  {
   "cell_type": "code",
   "execution_count": 58,
   "metadata": {},
   "outputs": [
    {
     "data": {
      "text/html": [
       "<div>\n",
       "<style scoped>\n",
       "    .dataframe tbody tr th:only-of-type {\n",
       "        vertical-align: middle;\n",
       "    }\n",
       "\n",
       "    .dataframe tbody tr th {\n",
       "        vertical-align: top;\n",
       "    }\n",
       "\n",
       "    .dataframe thead th {\n",
       "        text-align: right;\n",
       "    }\n",
       "</style>\n",
       "<table border=\"1\" class=\"dataframe\">\n",
       "  <thead>\n",
       "    <tr style=\"text-align: right;\">\n",
       "      <th></th>\n",
       "      <th>text</th>\n",
       "      <th>label</th>\n",
       "    </tr>\n",
       "  </thead>\n",
       "  <tbody>\n",
       "    <tr>\n",
       "      <td>173</td>\n",
       "      <td>J'y ai constaté l'effort des exploitants qui s...</td>\n",
       "      <td>1</td>\n",
       "    </tr>\n",
       "    <tr>\n",
       "      <td>174</td>\n",
       "      <td>Ils ont su adapter leur production aux contrai...</td>\n",
       "      <td>1</td>\n",
       "    </tr>\n",
       "    <tr>\n",
       "      <td>175</td>\n",
       "      <td>Je ne m'attarderai pas sur ce problème, mais j...</td>\n",
       "      <td>1</td>\n",
       "    </tr>\n",
       "    <tr>\n",
       "      <td>176</td>\n",
       "      <td>Comme vous savez, après avoir été visité cette...</td>\n",
       "      <td>1</td>\n",
       "    </tr>\n",
       "    <tr>\n",
       "      <td>177</td>\n",
       "      <td>J'y ai rencontré les organisations régionales ...</td>\n",
       "      <td>1</td>\n",
       "    </tr>\n",
       "    <tr>\n",
       "      <td>...</td>\n",
       "      <td>...</td>\n",
       "      <td>...</td>\n",
       "    </tr>\n",
       "    <tr>\n",
       "      <td>26102</td>\n",
       "      <td>Il a fallu d'abord fonder les réconciliations ...</td>\n",
       "      <td>1</td>\n",
       "    </tr>\n",
       "    <tr>\n",
       "      <td>26103</td>\n",
       "      <td>La réconciliation franco-allemande, pour ne pa...</td>\n",
       "      <td>1</td>\n",
       "    </tr>\n",
       "    <tr>\n",
       "      <td>26104</td>\n",
       "      <td>Aujourd'hui on doit penser que les réconciliat...</td>\n",
       "      <td>1</td>\n",
       "    </tr>\n",
       "    <tr>\n",
       "      <td>26105</td>\n",
       "      <td>Mais l'Europe en dépit des obstacles qu'elle r...</td>\n",
       "      <td>1</td>\n",
       "    </tr>\n",
       "    <tr>\n",
       "      <td>26106</td>\n",
       "      <td>C'est une Europe du hasard mais ce n'est pas u...</td>\n",
       "      <td>1</td>\n",
       "    </tr>\n",
       "  </tbody>\n",
       "</table>\n",
       "<p>2852 rows × 2 columns</p>\n",
       "</div>"
      ],
      "text/plain": [
       "                                                    text  label\n",
       "173    J'y ai constaté l'effort des exploitants qui s...      1\n",
       "174    Ils ont su adapter leur production aux contrai...      1\n",
       "175    Je ne m'attarderai pas sur ce problème, mais j...      1\n",
       "176    Comme vous savez, après avoir été visité cette...      1\n",
       "177    J'y ai rencontré les organisations régionales ...      1\n",
       "...                                                  ...    ...\n",
       "26102  Il a fallu d'abord fonder les réconciliations ...      1\n",
       "26103  La réconciliation franco-allemande, pour ne pa...      1\n",
       "26104  Aujourd'hui on doit penser que les réconciliat...      1\n",
       "26105  Mais l'Europe en dépit des obstacles qu'elle r...      1\n",
       "26106  C'est une Europe du hasard mais ce n'est pas u...      1\n",
       "\n",
       "[2852 rows x 2 columns]"
      ]
     },
     "execution_count": 58,
     "metadata": {},
     "output_type": "execute_result"
    }
   ],
   "source": [
    "test[test[\"label\"] == 1]"
   ]
  },
  {
   "cell_type": "code",
   "execution_count": 60,
   "metadata": {},
   "outputs": [],
   "source": [
    "file = open(\"prediction\", \"w\")\n",
    "for i in pred:\n",
    "    if i ==1:\n",
    "        file.write(\"M\\n\")\n",
    "    else:\n",
    "        file.write(\"C\\n\")\n",
    "file.close()"
   ]
  },
  {
   "cell_type": "code",
   "execution_count": 47,
   "metadata": {},
   "outputs": [
    {
     "data": {
      "text/plain": [
       "0.7083716651333948"
      ]
     },
     "execution_count": 47,
     "metadata": {},
     "output_type": "execute_result"
    }
   ],
   "source": [
    "from sklearn.metrics import f1_score\n",
    "#(pred==test[\"label\"])\n",
    "f1_score(test[\"label\"], pred, pos_label=1)"
   ]
  },
  {
   "cell_type": "code",
   "execution_count": 10,
   "metadata": {},
   "outputs": [],
   "source": [
    "ScoresNaive = label.mean()"
   ]
  },
  {
   "cell_type": "code",
   "execution_count": 11,
   "metadata": {},
   "outputs": [
    {
     "data": {
      "text/plain": [
       "0.13103304129726717"
      ]
     },
     "execution_count": 11,
     "metadata": {},
     "output_type": "execute_result"
    }
   ],
   "source": [
    "ScoresNaive"
   ]
  },
  {
   "cell_type": "code",
   "execution_count": 2,
   "metadata": {},
   "outputs": [],
   "source": [
    "Scores_raw, Scores_stemmed, Scores_lemmed, Scores_SW_raw, Scores_SW_lemmed, Scores_SW_stemmed= 0.761954961491559,0.7363605089460419,0.7563927356254625,0.47164415846000407,0.4492001019200389,0.4492001019200389"
   ]
  },
  {
   "cell_type": "code",
   "execution_count": 4,
   "metadata": {
    "scrolled": false
   },
   "outputs": [
    {
     "data": {
      "text/plain": [
       "Text(0.5, 1.0, 'Scores F1 avec post-traitement')"
      ]
     },
     "execution_count": 4,
     "metadata": {},
     "output_type": "execute_result"
    },
    {
     "data": {
      "image/png": "[encoded data removed]",
      "text/plain": [
       "<Figure size 640x480 with 1 Axes>"
      ]
     },
     "metadata": {},
     "output_type": "display_data"
    }
   ],
   "source": [
    "plt.rcdefaults()\n",
    "plt.xticks(rotation='vertical')\n",
    "plt.bar([\"raw text\", \"stemmed\", \"lemmatized\", \"raw /SW\", \"lemmatized /SW\", \"stemmed /SW\"], [Scores_raw, Scores_stemmed, Scores_lemmed, Scores_SW_raw, Scores_SW_lemmed, Scores_SW_stemmed])\n",
    "plt.ylabel(\"Score F1 sur la classe M\")\n",
    "plt.xlabel(\"données\")\n",
    "plt.title(\"Scores F1 avec post-traitement\")\n"
   ]
  },
  {
   "cell_type": "code",
   "execution_count": null,
   "metadata": {},
   "outputs": [],
   "source": []
  }
 ],
 "metadata": {
  "kernelspec": {
   "display_name": "Python 3",
   "language": "python",
   "name": "python3"
  },
  "language_info": {
   "codemirror_mode": {
    "name": "ipython",
    "version": 3
   },
   "file_extension": ".py",
   "mimetype": "text/x-python",
   "name": "python",
   "nbconvert_exporter": "python",
   "pygments_lexer": "ipython3",
   "version": "3.7.4"
  }
 },
 "nbformat": 4,
 "nbformat_minor": 2
}
