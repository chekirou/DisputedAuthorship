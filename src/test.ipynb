{
 "cells": [
  {
   "cell_type": "code",
   "execution_count": 6,
   "metadata": {},
   "outputs": [],
   "source": [
    "import sys, os\n",
    "from Dataset_Preparation import *\n",
    "sys.path.append(os.path.abspath('../'))\n"
   ]
  },
  {
   "cell_type": "code",
   "execution_count": 7,
   "metadata": {},
   "outputs": [
    {
     "name": "stdout",
     "output_type": "stream",
     "text": [
      "Loading : train data\n",
      "Loading : test data\n"
     ]
    }
   ],
   "source": [
    "train, test = load_data(\"../data/corpus.tache1.learn.utf8\", \"../data/corpus.tache1.test.utf8\")"
   ]
  },
  {
   "cell_type": "code",
   "execution_count": 17,
   "metadata": {},
   "outputs": [
    {
     "data": {
      "text/plain": [
       "11       Je ne sais ni pourquoi ni comment on s'est opp...\n",
       "12       C'est vrai qu'il y a très souvent dans notre p...\n",
       "13       Et ce sentiment n'est pas également partagé, m...\n",
       "14       Il est vrai que ceux qui possèdent préfèrent q...\n",
       "15       Moi je suis du côté de ceux qui pensent qu'il ...\n",
       "                               ...                        \n",
       "57080    Je crois que c'est un acte aussi audacieux que...\n",
       "57081    Nous n'avons même pas cinq ans pour y parvenir...\n",
       "57082    On pourrait dire que l'Europe a déjà perdu sur...\n",
       "57083    Et cependant, si nous manquons ce rendez-vous,...\n",
       "57084    Je ne me dissimule pas les obstacles et j'ai é...\n",
       "Name: text, Length: 7523, dtype: object"
      ]
     },
     "execution_count": 17,
     "metadata": {},
     "output_type": "execute_result"
    }
   ],
   "source": []
  },
  {
   "cell_type": "code",
   "execution_count": 4,
   "metadata": {},
   "outputs": [
    {
     "data": {
      "text/plain": [
       "(<57413x437204 sparse matrix of type '<class 'numpy.int64'>'\n",
       " \twith 1369336 stored elements in Compressed Sparse Row format>,\n",
       " <27162x437204 sparse matrix of type '<class 'numpy.int64'>'\n",
       " \twith 458106 stored elements in Compressed Sparse Row format>)"
      ]
     },
     "execution_count": 4,
     "metadata": {},
     "output_type": "execute_result"
    }
   ],
   "source": [
    "DS = DataSet(train, test)\n",
    "DS.CountVectoriser()"
   ]
  },
  {
   "cell_type": "code",
   "execution_count": 5,
   "metadata": {},
   "outputs": [
    {
     "data": {
      "text/plain": [
       "(<57413x5000 sparse matrix of type '<class 'numpy.float64'>'\n",
       " \twith 665440 stored elements in Compressed Sparse Row format>,\n",
       " <27162x5000 sparse matrix of type '<class 'numpy.float64'>'\n",
       " \twith 296923 stored elements in Compressed Sparse Row format>)"
      ]
     },
     "execution_count": 5,
     "metadata": {},
     "output_type": "execute_result"
    }
   ],
   "source": [
    "DS.tf_idf()"
   ]
  },
  {
   "cell_type": "code",
   "execution_count": 1,
   "metadata": {},
   "outputs": [],
   "source": [
    "import spacy\n",
    "from spacy import displacy\n",
    "\n",
    "nlp = spacy.load(\"fr_core_news_sm\").vocab.morphology.lemmatizer\n",
    "\n"
   ]
  },
  {
   "cell_type": "code",
   "execution_count": 3,
   "metadata": {},
   "outputs": [],
   "source": [
    "doc = nlp(\"Mes chers amis, vous etes tous des imbeciles\", \"Noun\")"
   ]
  },
  {
   "cell_type": "code",
   "execution_count": 6,
   "metadata": {},
   "outputs": [
    {
     "data": {
      "text/plain": [
       "['Mes chers amis, vous etes tous des imbeciles']"
      ]
     },
     "execution_count": 6,
     "metadata": {},
     "output_type": "execute_result"
    }
   ],
   "source": [
    "doc"
   ]
  },
  {
   "cell_type": "code",
   "execution_count": null,
   "metadata": {},
   "outputs": [],
   "source": [
    "def khra(string):\n",
    "    "
   ]
  }
 ],
 "metadata": {
  "kernelspec": {
   "display_name": "Python 3",
   "language": "python",
   "name": "python3"
  },
  "language_info": {
   "codemirror_mode": {
    "name": "ipython",
    "version": 3
   },
   "file_extension": ".py",
   "mimetype": "text/x-python",
   "name": "python",
   "nbconvert_exporter": "python",
   "pygments_lexer": "ipython3",
   "version": "3.7.4"
  }
 },
 "nbformat": 4,
 "nbformat_minor": 2
}
